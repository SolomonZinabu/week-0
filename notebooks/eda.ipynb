{
 "cells": [
  {
   "cell_type": "code",
   "execution_count": null,
   "metadata": {},
   "outputs": [],
   "source": [
    "import pandas as pd\n",
    "\n",
    "benin_data = pd.read_csv('D:/Projects/SolomonProjects/Kifiya/Task-1/data/benin-malanville.csv')\n",
    "sierraleone_data = pd.read_csv('D:/Projects/SolomonProjects/Kifiya/Task-1/data/sierraleone-bumbuna.csv')\n",
    "togo_data = pd.read_csv('D:/Projects/SolomonProjects/Kifiya/Task-1/data/togo-dapaong_qc.csv')\n",
    "\n",
    "def summarize_data(df):\n",
    "    return df.describe(include='all')  # 'include=all' to get statistics for all columns\n",
    "\n",
    "benin_summary = summarize_data(benin_data)\n",
    "sierraleone_summary = summarize_data(sierraleone_data)\n",
    "togo_summary = summarize_data(togo_data)\n",
    "\n",
    "print(\"Benin Summary Statistics:\\n\", benin_summary)\n",
    "print(\"Sierra Leone Summary Statistics:\\n\", sierraleone_summary)\n",
    "print(\"Togo Summary Statistics:\\n\", togo_summary)"
   ]
  }
 ],
 "metadata": {
  "language_info": {
   "name": "python"
  }
 },
 "nbformat": 4,
 "nbformat_minor": 2
}
