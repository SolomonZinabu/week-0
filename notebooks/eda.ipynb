{
 "cells": [
  {
   "cell_type": "code",
   "execution_count": null,
   "metadata": {},
   "outputs": [],
   "source": [
    "import pandas as pd\n",
    "\n",
    "benin_data = pd.read_csv('../data/benin-malanville.csv')\n",
    "sierraleone_data = pd.read_csv('../data/sierraleone-bumbuna.csv')\n",
    "togo_data = pd.read_csv('../data/togo-dapaong_qc.csv')\n",
    "\n",
    "# Function to summarize data using pandas' describe() method, which returns summary statistics for all numeric columns by default.\n",
    "def summarize_data(df):\n",
    "    return df.describe(include='all')  # 'include=all' to get statistics for all columns\n",
    "\n",
    "benin_summary = summarize_data(benin_data)\n",
    "sierraleone_summary = summarize_data(sierraleone_data)\n",
    "togo_summary = summarize_data(togo_data)\n",
    "\n",
    "print(\"Benin Summary Statistics:\\n\", benin_summary)\n",
    "print(\"Sierra Leone Summary Statistics:\\n\", sierraleone_summary)\n",
    "print(\"Togo Summary Statistics:\\n\", togo_summary)\n",
    "\n",
    "# Function for data qulity check using pandas isnull() abd select_dtypes() method.\n",
    "def data_quality_check(df):\n",
    "    missing_values = df.isnull().sum()\n",
    "    negative_values = df[df.select_dtypes(include='number') < 0].count()\n",
    "    return missing_values, negative_values\n",
    "\n",
    "benin_missing, benin_negatives = data_quality_check(benin_data)\n",
    "sierraleone_missing, sierraleone_negatives = data_quality_check(sierraleone_data)\n",
    "togo_missing, togo_negatives = data_quality_check(togo_data)\n",
    "\n",
    "print(\"Benin Data Quality Check:\\n\", benin_missing, benin_negatives)\n",
    "print(\"Sierra Leone Data Quality Check:\\n\", sierraleone_missing, sierraleone_negatives)\n",
    "print(\"Togo Data Quality Check:\\n\", togo_missing, togo_negatives)\n"
   ]
  }
 ],
 "metadata": {
  "language_info": {
   "name": "python"
  }
 },
 "nbformat": 4,
 "nbformat_minor": 2
}
